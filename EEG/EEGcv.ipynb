{
 "cells": [
  {
   "cell_type": "markdown",
   "metadata": {},
   "source": [
    "# IMPORT FUNCTIONS AND LIBS"
   ]
  },
  {
   "cell_type": "code",
   "execution_count": 1,
   "metadata": {
    "collapsed": true
   },
   "outputs": [],
   "source": [
    "import glob\n",
    "#import pyedflib\n",
    "import numpy as np\n",
    "#import matplotlib.pyplot as plt\n",
    "#import matplotlib.patches as mpatches\n",
    "#import sklearn as skl \n",
    "#from sklearn import model_selection\n",
    "#import numpy as np\n",
    "#import scipy as sp\n",
    "from sklearn.neural_network import MLPClassifier\n",
    "from sklearn import preprocessing\n",
    "from sklearn.ensemble import RandomForestClassifier\n",
    "from sklearn.metrics import confusion_matrix\n",
    "\n",
    "from Functions import getLists\n",
    "from Functions import getWindowsList\n",
    "from Functions import getBinaryLabelsList\n",
    "from Functions import getConcatDB\n",
    "from Functions import extr_feat\n",
    "from Functions import TVFP\n",
    "from Functions import getDB\n",
    "from Functions import getFeatAndLabels\n",
    "from Functions import crossValidation\n"
   ]
  },
  {
   "cell_type": "markdown",
   "metadata": {},
   "source": [
    "### Load DB"
   ]
  },
  {
   "cell_type": "code",
   "execution_count": 2,
   "metadata": {
    "collapsed": true
   },
   "outputs": [],
   "source": [
    "signalNames=sorted(glob.glob(\"/home/asceta/Documents/Fatigue/DB/*PSG.edf\"))\n",
    "signalHyp=sorted(glob.glob(\"/home/asceta/Documents/Fatigue/DB/*Hypnogram.edf\"))\n",
    "\n",
    "testSubjects=1\n",
    "#testSubjectIndexs=np.random.randint(len(signalNames),size=testSubjects)\n",
    "\n",
    "#first 12\n",
    "signalNamesTrain=signalNames[:len(signalNames)-testSubjects]\n",
    "signalNamesTest=[]\n",
    "signalNamesTest.append(signalNames[-1])\n",
    "\n",
    "signalHypTrain=signalHyp[:len(signalHyp)-testSubjects]\n",
    "signalHypTest=[]\n",
    "signalHypTest.append(signalHyp[-1])"
   ]
  },
  {
   "cell_type": "markdown",
   "metadata": {},
   "source": [
    "### Do Cross Validation to a MLP"
   ]
  },
  {
   "cell_type": "code",
   "execution_count": 3,
   "metadata": {},
   "outputs": [
    {
     "name": "stdout",
     "output_type": "stream",
     "text": [
      "MLP Accuracy: 93.613 (+/- 3.687)\n"
     ]
    }
   ],
   "source": [
    "MLP = MLPClassifier(solver='adam', alpha=1e-5, tol=1e-5, hidden_layer_sizes=(300,50), max_iter = 10000, random_state=1)\n",
    "AccMLP = crossValidation(signalNamesTrain, signalHypTrain, MLP) \n",
    "\n",
    "print(\"MLP Accuracy: %0.3f (+/- %0.3f)\" % (AccMLP.mean()*100, AccMLP.std()*100))"
   ]
  },
  {
   "cell_type": "code",
   "execution_count": 5,
   "metadata": {},
   "outputs": [
    {
     "name": "stdout",
     "output_type": "stream",
     "text": [
      "[[ 0.97924528]\n",
      " [ 0.95971731]\n",
      " [ 0.96395432]\n",
      " [ 0.96736842]\n",
      " [ 0.85841655]\n",
      " [ 0.97532656]\n",
      " [ 0.94042553]\n",
      " [ 0.88726208]\n",
      " [ 0.95486381]\n",
      " [ 0.93445559]\n",
      " [ 0.8806025 ]\n",
      " [ 0.92765502]\n",
      " [ 0.94043321]]\n"
     ]
    }
   ],
   "source": [
    "print(AccMLP)"
   ]
  },
  {
   "cell_type": "markdown",
   "metadata": {},
   "source": [
    "### Do Cross Validation to a RF"
   ]
  },
  {
   "cell_type": "code",
   "execution_count": 4,
   "metadata": {},
   "outputs": [
    {
     "name": "stdout",
     "output_type": "stream",
     "text": [
      "RF Accuracy: 94.589 (+/- 2.929)\n"
     ]
    }
   ],
   "source": [
    "RF = RandomForestClassifier(n_estimators=50,max_leaf_nodes=100,n_jobs=-1,random_state=0)\n",
    "AccRF = crossValidation(signalNamesTrain, signalHypTrain, RF) \n",
    "\n",
    "print(\"RF Accuracy: %0.3f (+/- %0.3f)\" % (AccRF.mean()*100, AccRF.std()*100))"
   ]
  },
  {
   "cell_type": "code",
   "execution_count": 6,
   "metadata": {},
   "outputs": [
    {
     "name": "stdout",
     "output_type": "stream",
     "text": [
      "[[ 0.97849057]\n",
      " [ 0.95300353]\n",
      " [ 0.95538901]\n",
      " [ 0.96912281]\n",
      " [ 0.94472183]\n",
      " [ 0.98584906]\n",
      " [ 0.96560284]\n",
      " [ 0.87408492]\n",
      " [ 0.94124514]\n",
      " [ 0.92836676]\n",
      " [ 0.90264511]\n",
      " [ 0.95402708]\n",
      " [ 0.94404332]]\n"
     ]
    }
   ],
   "source": [
    "print(AccRF)"
   ]
  },
  {
   "cell_type": "code",
   "execution_count": null,
   "metadata": {
    "collapsed": true
   },
   "outputs": [],
   "source": []
  }
 ],
 "metadata": {
  "kernelspec": {
   "display_name": "Python 3",
   "language": "python",
   "name": "python3"
  },
  "language_info": {
   "codemirror_mode": {
    "name": "ipython",
    "version": 3
   },
   "file_extension": ".py",
   "mimetype": "text/x-python",
   "name": "python",
   "nbconvert_exporter": "python",
   "pygments_lexer": "ipython3",
   "version": "3.5.3"
  }
 },
 "nbformat": 4,
 "nbformat_minor": 2
}
